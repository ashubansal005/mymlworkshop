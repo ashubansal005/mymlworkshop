{
  "nbformat": 4,
  "nbformat_minor": 0,
  "metadata": {
    "colab": {
      "name": "Gender_Reco.ipynb",
      "provenance": [],
      "authorship_tag": "ABX9TyPgt8g1AN3ru0jZb77bWP/6",
      "include_colab_link": true
    },
    "kernelspec": {
      "name": "python3",
      "display_name": "Python 3"
    }
  },
  "cells": [
    {
      "cell_type": "markdown",
      "metadata": {
        "id": "view-in-github",
        "colab_type": "text"
      },
      "source": [
        "<a href=\"https://colab.research.google.com/github/ashubansal005/mymlworkshop/blob/master/Gender_Reco.ipynb\" target=\"_parent\"><img src=\"https://colab.research.google.com/assets/colab-badge.svg\" alt=\"Open In Colab\"/></a>"
      ]
    },
    {
      "cell_type": "code",
      "metadata": {
        "id": "nqZzlInx6pB5",
        "colab_type": "code",
        "colab": {
          "base_uri": "https://localhost:8080/",
          "height": 71
        },
        "outputId": "206ef435-fa0a-4723-cf92-5a3f7912991c"
      },
      "source": [
        "import pandas as pd\n",
        "import numpy as np\n",
        "import matplotlib.pyplot as plt\n",
        "import seaborn as sns\n",
        "%matplotlib inline\n",
        "import warnings\n",
        "warnings.filterwarnings('ignore')\n"
      ],
      "execution_count": null,
      "outputs": [
        {
          "output_type": "stream",
          "text": [
            "/usr/local/lib/python3.6/dist-packages/statsmodels/tools/_testing.py:19: FutureWarning: pandas.util.testing is deprecated. Use the functions in the public API at pandas.testing instead.\n",
            "  import pandas.util.testing as tm\n"
          ],
          "name": "stderr"
        }
      ]
    },
    {
      "cell_type": "code",
      "metadata": {
        "id": "yeIZByNg7Qu9",
        "colab_type": "code",
        "colab": {}
      },
      "source": [
        "dataset = pd.read_csv('voice.csv')"
      ],
      "execution_count": null,
      "outputs": []
    },
    {
      "cell_type": "code",
      "metadata": {
        "id": "nPUFPJd18gGn",
        "colab_type": "code",
        "colab": {
          "base_uri": "https://localhost:8080/",
          "height": 224
        },
        "outputId": "d5601165-0391-4266-f3f1-ad9e5bd8d74f"
      },
      "source": [
        "dataset.head()"
      ],
      "execution_count": null,
      "outputs": [
        {
          "output_type": "execute_result",
          "data": {
            "text/html": [
              "<div>\n",
              "<style scoped>\n",
              "    .dataframe tbody tr th:only-of-type {\n",
              "        vertical-align: middle;\n",
              "    }\n",
              "\n",
              "    .dataframe tbody tr th {\n",
              "        vertical-align: top;\n",
              "    }\n",
              "\n",
              "    .dataframe thead th {\n",
              "        text-align: right;\n",
              "    }\n",
              "</style>\n",
              "<table border=\"1\" class=\"dataframe\">\n",
              "  <thead>\n",
              "    <tr style=\"text-align: right;\">\n",
              "      <th></th>\n",
              "      <th>meanfreq</th>\n",
              "      <th>sd</th>\n",
              "      <th>median</th>\n",
              "      <th>Q25</th>\n",
              "      <th>Q75</th>\n",
              "      <th>IQR</th>\n",
              "      <th>skew</th>\n",
              "      <th>kurt</th>\n",
              "      <th>sp.ent</th>\n",
              "      <th>sfm</th>\n",
              "      <th>mode</th>\n",
              "      <th>centroid</th>\n",
              "      <th>meanfun</th>\n",
              "      <th>minfun</th>\n",
              "      <th>maxfun</th>\n",
              "      <th>meandom</th>\n",
              "      <th>mindom</th>\n",
              "      <th>maxdom</th>\n",
              "      <th>dfrange</th>\n",
              "      <th>modindx</th>\n",
              "      <th>label</th>\n",
              "    </tr>\n",
              "  </thead>\n",
              "  <tbody>\n",
              "    <tr>\n",
              "      <th>0</th>\n",
              "      <td>0.059781</td>\n",
              "      <td>0.064241</td>\n",
              "      <td>0.032027</td>\n",
              "      <td>0.015071</td>\n",
              "      <td>0.090193</td>\n",
              "      <td>0.075122</td>\n",
              "      <td>12.863462</td>\n",
              "      <td>274.402906</td>\n",
              "      <td>0.893369</td>\n",
              "      <td>0.491918</td>\n",
              "      <td>0.000000</td>\n",
              "      <td>0.059781</td>\n",
              "      <td>0.084279</td>\n",
              "      <td>0.015702</td>\n",
              "      <td>0.275862</td>\n",
              "      <td>0.007812</td>\n",
              "      <td>0.007812</td>\n",
              "      <td>0.007812</td>\n",
              "      <td>0.000000</td>\n",
              "      <td>0.000000</td>\n",
              "      <td>male</td>\n",
              "    </tr>\n",
              "    <tr>\n",
              "      <th>1</th>\n",
              "      <td>0.066009</td>\n",
              "      <td>0.067310</td>\n",
              "      <td>0.040229</td>\n",
              "      <td>0.019414</td>\n",
              "      <td>0.092666</td>\n",
              "      <td>0.073252</td>\n",
              "      <td>22.423285</td>\n",
              "      <td>634.613855</td>\n",
              "      <td>0.892193</td>\n",
              "      <td>0.513724</td>\n",
              "      <td>0.000000</td>\n",
              "      <td>0.066009</td>\n",
              "      <td>0.107937</td>\n",
              "      <td>0.015826</td>\n",
              "      <td>0.250000</td>\n",
              "      <td>0.009014</td>\n",
              "      <td>0.007812</td>\n",
              "      <td>0.054688</td>\n",
              "      <td>0.046875</td>\n",
              "      <td>0.052632</td>\n",
              "      <td>male</td>\n",
              "    </tr>\n",
              "    <tr>\n",
              "      <th>2</th>\n",
              "      <td>0.077316</td>\n",
              "      <td>0.083829</td>\n",
              "      <td>0.036718</td>\n",
              "      <td>0.008701</td>\n",
              "      <td>0.131908</td>\n",
              "      <td>0.123207</td>\n",
              "      <td>30.757155</td>\n",
              "      <td>1024.927705</td>\n",
              "      <td>0.846389</td>\n",
              "      <td>0.478905</td>\n",
              "      <td>0.000000</td>\n",
              "      <td>0.077316</td>\n",
              "      <td>0.098706</td>\n",
              "      <td>0.015656</td>\n",
              "      <td>0.271186</td>\n",
              "      <td>0.007990</td>\n",
              "      <td>0.007812</td>\n",
              "      <td>0.015625</td>\n",
              "      <td>0.007812</td>\n",
              "      <td>0.046512</td>\n",
              "      <td>male</td>\n",
              "    </tr>\n",
              "    <tr>\n",
              "      <th>3</th>\n",
              "      <td>0.151228</td>\n",
              "      <td>0.072111</td>\n",
              "      <td>0.158011</td>\n",
              "      <td>0.096582</td>\n",
              "      <td>0.207955</td>\n",
              "      <td>0.111374</td>\n",
              "      <td>1.232831</td>\n",
              "      <td>4.177296</td>\n",
              "      <td>0.963322</td>\n",
              "      <td>0.727232</td>\n",
              "      <td>0.083878</td>\n",
              "      <td>0.151228</td>\n",
              "      <td>0.088965</td>\n",
              "      <td>0.017798</td>\n",
              "      <td>0.250000</td>\n",
              "      <td>0.201497</td>\n",
              "      <td>0.007812</td>\n",
              "      <td>0.562500</td>\n",
              "      <td>0.554688</td>\n",
              "      <td>0.247119</td>\n",
              "      <td>male</td>\n",
              "    </tr>\n",
              "    <tr>\n",
              "      <th>4</th>\n",
              "      <td>0.135120</td>\n",
              "      <td>0.079146</td>\n",
              "      <td>0.124656</td>\n",
              "      <td>0.078720</td>\n",
              "      <td>0.206045</td>\n",
              "      <td>0.127325</td>\n",
              "      <td>1.101174</td>\n",
              "      <td>4.333713</td>\n",
              "      <td>0.971955</td>\n",
              "      <td>0.783568</td>\n",
              "      <td>0.104261</td>\n",
              "      <td>0.135120</td>\n",
              "      <td>0.106398</td>\n",
              "      <td>0.016931</td>\n",
              "      <td>0.266667</td>\n",
              "      <td>0.712812</td>\n",
              "      <td>0.007812</td>\n",
              "      <td>5.484375</td>\n",
              "      <td>5.476562</td>\n",
              "      <td>0.208274</td>\n",
              "      <td>male</td>\n",
              "    </tr>\n",
              "  </tbody>\n",
              "</table>\n",
              "</div>"
            ],
            "text/plain": [
              "   meanfreq        sd    median       Q25  ...    maxdom   dfrange   modindx  label\n",
              "0  0.059781  0.064241  0.032027  0.015071  ...  0.007812  0.000000  0.000000   male\n",
              "1  0.066009  0.067310  0.040229  0.019414  ...  0.054688  0.046875  0.052632   male\n",
              "2  0.077316  0.083829  0.036718  0.008701  ...  0.015625  0.007812  0.046512   male\n",
              "3  0.151228  0.072111  0.158011  0.096582  ...  0.562500  0.554688  0.247119   male\n",
              "4  0.135120  0.079146  0.124656  0.078720  ...  5.484375  5.476562  0.208274   male\n",
              "\n",
              "[5 rows x 21 columns]"
            ]
          },
          "metadata": {
            "tags": []
          },
          "execution_count": 4
        }
      ]
    },
    {
      "cell_type": "code",
      "metadata": {
        "id": "uvynqexc8mkY",
        "colab_type": "code",
        "colab": {
          "base_uri": "https://localhost:8080/",
          "height": 493
        },
        "outputId": "84fc76d2-aceb-478a-d0f9-bdbcb8a6d74a"
      },
      "source": [
        "dataset.info()"
      ],
      "execution_count": null,
      "outputs": [
        {
          "output_type": "stream",
          "text": [
            "<class 'pandas.core.frame.DataFrame'>\n",
            "RangeIndex: 3168 entries, 0 to 3167\n",
            "Data columns (total 21 columns):\n",
            " #   Column    Non-Null Count  Dtype  \n",
            "---  ------    --------------  -----  \n",
            " 0   meanfreq  3168 non-null   float64\n",
            " 1   sd        3168 non-null   float64\n",
            " 2   median    3168 non-null   float64\n",
            " 3   Q25       3168 non-null   float64\n",
            " 4   Q75       3168 non-null   float64\n",
            " 5   IQR       3168 non-null   float64\n",
            " 6   skew      3168 non-null   float64\n",
            " 7   kurt      3168 non-null   float64\n",
            " 8   sp.ent    3168 non-null   float64\n",
            " 9   sfm       3168 non-null   float64\n",
            " 10  mode      3168 non-null   float64\n",
            " 11  centroid  3168 non-null   float64\n",
            " 12  meanfun   3168 non-null   float64\n",
            " 13  minfun    3168 non-null   float64\n",
            " 14  maxfun    3168 non-null   float64\n",
            " 15  meandom   3168 non-null   float64\n",
            " 16  mindom    3168 non-null   float64\n",
            " 17  maxdom    3168 non-null   float64\n",
            " 18  dfrange   3168 non-null   float64\n",
            " 19  modindx   3168 non-null   float64\n",
            " 20  label     3168 non-null   object \n",
            "dtypes: float64(20), object(1)\n",
            "memory usage: 519.9+ KB\n"
          ],
          "name": "stdout"
        }
      ]
    },
    {
      "cell_type": "code",
      "metadata": {
        "id": "bpBQJ_6Q9S7c",
        "colab_type": "code",
        "colab": {}
      },
      "source": [
        "X = dataset.iloc[:, :-1]"
      ],
      "execution_count": null,
      "outputs": []
    },
    {
      "cell_type": "code",
      "metadata": {
        "id": "NuF-86Jy8ulM",
        "colab_type": "code",
        "colab": {}
      },
      "source": [
        "from sklearn.preprocessing import LabelEncoder"
      ],
      "execution_count": null,
      "outputs": []
    },
    {
      "cell_type": "code",
      "metadata": {
        "id": "Fu8Ly8Xn9Uy2",
        "colab_type": "code",
        "colab": {
          "base_uri": "https://localhost:8080/",
          "height": 34
        },
        "outputId": "7b2653f4-4b22-44d1-b061-acd77925cb8e"
      },
      "source": [
        "y = dataset.iloc[:,-1]\n",
        "gender_encoder = LabelEncoder()\n",
        "y = gender_encoder.fit_transform(y)\n",
        "y"
      ],
      "execution_count": null,
      "outputs": [
        {
          "output_type": "execute_result",
          "data": {
            "text/plain": [
              "array([1, 1, 1, ..., 0, 0, 0])"
            ]
          },
          "metadata": {
            "tags": []
          },
          "execution_count": 7
        }
      ]
    },
    {
      "cell_type": "code",
      "metadata": {
        "id": "CLlrSoB69xPu",
        "colab_type": "code",
        "colab": {
          "base_uri": "https://localhost:8080/",
          "height": 238
        },
        "outputId": "7e50c665-6314-4ce3-95ce-38fb9e1c44de"
      },
      "source": [
        "from sklearn.preprocessing import StandardScaler\n",
        "scaler = StandardScaler()\n",
        "scaler.fit(X)\n",
        "X = scaler.transform(X)\n",
        "X"
      ],
      "execution_count": null,
      "outputs": [
        {
          "output_type": "execute_result",
          "data": {
            "text/plain": [
              "array([[-4.04924806,  0.4273553 , -4.22490077, ..., -1.43142165,\n",
              "        -1.41913712, -1.45477229],\n",
              "       [-3.84105325,  0.6116695 , -3.99929342, ..., -1.41810716,\n",
              "        -1.4058184 , -1.01410294],\n",
              "       [-3.46306647,  1.60384791, -4.09585052, ..., -1.42920257,\n",
              "        -1.41691733, -1.06534356],\n",
              "       ...,\n",
              "       [-1.29877326,  2.32272355, -0.05197279, ..., -0.5992661 ,\n",
              "        -0.58671739,  0.17588664],\n",
              "       [-1.2452018 ,  2.012196  , -0.01772849, ..., -0.41286326,\n",
              "        -0.40025537,  1.14916112],\n",
              "       [-0.51474626,  2.14765111, -0.07087873, ..., -1.27608595,\n",
              "        -1.2637521 ,  1.47567886]])"
            ]
          },
          "metadata": {
            "tags": []
          },
          "execution_count": 12
        }
      ]
    },
    {
      "cell_type": "code",
      "metadata": {
        "id": "BmTGr4r2-dSg",
        "colab_type": "code",
        "colab": {}
      },
      "source": [
        "from sklearn.model_selection import train_test_split\n",
        "X_test,X_train,y_test,y_train = train_test_split(X,y,test_size=0.3,random_state=100)"
      ],
      "execution_count": null,
      "outputs": []
    },
    {
      "cell_type": "code",
      "metadata": {
        "id": "79zpDrZ8_Az6",
        "colab_type": "code",
        "colab": {}
      },
      "source": [
        "from sklearn.svm import SVC\n",
        "from sklearn import metrics\n",
        "from sklearn.metrics import classification_report,confusion_matrix"
      ],
      "execution_count": null,
      "outputs": []
    },
    {
      "cell_type": "code",
      "metadata": {
        "id": "ZOxWS_cV_xF8",
        "colab_type": "code",
        "colab": {}
      },
      "source": [
        "svc_model = SVC()\n",
        "svc_model.fit(X_train,y_train)\n",
        "y_pred = svc_model.predict(X_test)\n"
      ],
      "execution_count": null,
      "outputs": []
    },
    {
      "cell_type": "code",
      "metadata": {
        "id": "4F56QvNwATMX",
        "colab_type": "code",
        "colab": {
          "base_uri": "https://localhost:8080/",
          "height": 51
        },
        "outputId": "476798ce-6be9-4883-c7f4-5d3b368ca83a"
      },
      "source": [
        "print('Accuracy score:')\n",
        "print(metrics.accuracy_score(y_test,y_pred))"
      ],
      "execution_count": null,
      "outputs": [
        {
          "output_type": "stream",
          "text": [
            "Accuracy score:\n",
            "0.9747406405051872\n"
          ],
          "name": "stdout"
        }
      ]
    },
    {
      "cell_type": "code",
      "metadata": {
        "id": "DbRMM6LAAplr",
        "colab_type": "code",
        "colab": {
          "base_uri": "https://localhost:8080/",
          "height": 51
        },
        "outputId": "7bfcfce5-b39d-4d95-d9e9-77d559d894f2"
      },
      "source": [
        "print(confusion_matrix(y_test,y_pred))\n"
      ],
      "execution_count": null,
      "outputs": [
        {
          "output_type": "stream",
          "text": [
            "[[1080   33]\n",
            " [  23 1081]]\n"
          ],
          "name": "stdout"
        }
      ]
    },
    {
      "cell_type": "code",
      "metadata": {
        "id": "6BBV91SiA3QV",
        "colab_type": "code",
        "colab": {
          "base_uri": "https://localhost:8080/",
          "height": 170
        },
        "outputId": "1b1c1db4-b096-4528-e189-f9b52d92041b"
      },
      "source": [
        "print(classification_report(y_test,y_pred))\n"
      ],
      "execution_count": null,
      "outputs": [
        {
          "output_type": "stream",
          "text": [
            "              precision    recall  f1-score   support\n",
            "\n",
            "           0       0.98      0.97      0.97      1113\n",
            "           1       0.97      0.98      0.97      1104\n",
            "\n",
            "    accuracy                           0.97      2217\n",
            "   macro avg       0.97      0.97      0.97      2217\n",
            "weighted avg       0.97      0.97      0.97      2217\n",
            "\n"
          ],
          "name": "stdout"
        }
      ]
    },
    {
      "cell_type": "code",
      "metadata": {
        "id": "PAatbhAQA_Zy",
        "colab_type": "code",
        "colab": {}
      },
      "source": [
        "from sklearn.model_selection import GridSearchCV"
      ],
      "execution_count": null,
      "outputs": []
    },
    {
      "cell_type": "code",
      "metadata": {
        "id": "6R6gFXEvQX4w",
        "colab_type": "code",
        "colab": {}
      },
      "source": [
        "param_grid = {'C' : [0.1,1, 10, 100] , 'gamma': [1,0.1,0.01,0.001]}\n"
      ],
      "execution_count": null,
      "outputs": []
    },
    {
      "cell_type": "code",
      "metadata": {
        "id": "X_RfgE9-Q_TW",
        "colab_type": "code",
        "colab": {
          "base_uri": "https://localhost:8080/",
          "height": 1000
        },
        "outputId": "950fdb0d-b0ca-43c7-ded5-3cdb4c6c6867"
      },
      "source": [
        "grid = GridSearchCV(SVC(),param_grid,refit=True,verbose=2)\n",
        "grid.fit(X_train,y_train)"
      ],
      "execution_count": null,
      "outputs": [
        {
          "output_type": "stream",
          "text": [
            "Fitting 5 folds for each of 16 candidates, totalling 80 fits\n",
            "[CV] C=0.1, gamma=1 ..................................................\n",
            "[CV] ................................... C=0.1, gamma=1, total=   0.1s\n",
            "[CV] C=0.1, gamma=1 ..................................................\n",
            "[CV] ................................... C=0.1, gamma=1, total=   0.0s\n",
            "[CV] C=0.1, gamma=1 ..................................................\n",
            "[CV] ................................... C=0.1, gamma=1, total=   0.0s\n",
            "[CV] C=0.1, gamma=1 ..................................................\n",
            "[CV] ................................... C=0.1, gamma=1, total=   0.0s\n",
            "[CV] C=0.1, gamma=1 ..................................................\n"
          ],
          "name": "stdout"
        },
        {
          "output_type": "stream",
          "text": [
            "[Parallel(n_jobs=1)]: Using backend SequentialBackend with 1 concurrent workers.\n",
            "[Parallel(n_jobs=1)]: Done   1 out of   1 | elapsed:    0.1s remaining:    0.0s\n"
          ],
          "name": "stderr"
        },
        {
          "output_type": "stream",
          "text": [
            "[CV] ................................... C=0.1, gamma=1, total=   0.1s\n",
            "[CV] C=0.1, gamma=0.1 ................................................\n",
            "[CV] ................................. C=0.1, gamma=0.1, total=   0.0s\n",
            "[CV] C=0.1, gamma=0.1 ................................................\n",
            "[CV] ................................. C=0.1, gamma=0.1, total=   0.0s\n",
            "[CV] C=0.1, gamma=0.1 ................................................\n",
            "[CV] ................................. C=0.1, gamma=0.1, total=   0.0s\n",
            "[CV] C=0.1, gamma=0.1 ................................................\n",
            "[CV] ................................. C=0.1, gamma=0.1, total=   0.0s\n",
            "[CV] C=0.1, gamma=0.1 ................................................\n",
            "[CV] ................................. C=0.1, gamma=0.1, total=   0.0s\n",
            "[CV] C=0.1, gamma=0.01 ...............................................\n",
            "[CV] ................................ C=0.1, gamma=0.01, total=   0.0s\n",
            "[CV] C=0.1, gamma=0.01 ...............................................\n",
            "[CV] ................................ C=0.1, gamma=0.01, total=   0.0s\n",
            "[CV] C=0.1, gamma=0.01 ...............................................\n",
            "[CV] ................................ C=0.1, gamma=0.01, total=   0.0s\n",
            "[CV] C=0.1, gamma=0.01 ...............................................\n",
            "[CV] ................................ C=0.1, gamma=0.01, total=   0.0s\n",
            "[CV] C=0.1, gamma=0.01 ...............................................\n",
            "[CV] ................................ C=0.1, gamma=0.01, total=   0.0s\n",
            "[CV] C=0.1, gamma=0.001 ..............................................\n",
            "[CV] ............................... C=0.1, gamma=0.001, total=   0.0s\n",
            "[CV] C=0.1, gamma=0.001 ..............................................\n",
            "[CV] ............................... C=0.1, gamma=0.001, total=   0.0s\n",
            "[CV] C=0.1, gamma=0.001 ..............................................\n",
            "[CV] ............................... C=0.1, gamma=0.001, total=   0.0s\n",
            "[CV] C=0.1, gamma=0.001 ..............................................\n",
            "[CV] ............................... C=0.1, gamma=0.001, total=   0.0s\n",
            "[CV] C=0.1, gamma=0.001 ..............................................\n",
            "[CV] ............................... C=0.1, gamma=0.001, total=   0.0s\n",
            "[CV] C=1, gamma=1 ....................................................\n",
            "[CV] ..................................... C=1, gamma=1, total=   0.0s\n",
            "[CV] C=1, gamma=1 ....................................................\n",
            "[CV] ..................................... C=1, gamma=1, total=   0.0s\n",
            "[CV] C=1, gamma=1 ....................................................\n",
            "[CV] ..................................... C=1, gamma=1, total=   0.0s\n",
            "[CV] C=1, gamma=1 ....................................................\n",
            "[CV] ..................................... C=1, gamma=1, total=   0.0s\n",
            "[CV] C=1, gamma=1 ....................................................\n",
            "[CV] ..................................... C=1, gamma=1, total=   0.0s\n",
            "[CV] C=1, gamma=0.1 ..................................................\n",
            "[CV] ................................... C=1, gamma=0.1, total=   0.0s\n",
            "[CV] C=1, gamma=0.1 ..................................................\n",
            "[CV] ................................... C=1, gamma=0.1, total=   0.0s\n",
            "[CV] C=1, gamma=0.1 ..................................................\n",
            "[CV] ................................... C=1, gamma=0.1, total=   0.0s\n",
            "[CV] C=1, gamma=0.1 ..................................................\n",
            "[CV] ................................... C=1, gamma=0.1, total=   0.0s\n",
            "[CV] C=1, gamma=0.1 ..................................................\n",
            "[CV] ................................... C=1, gamma=0.1, total=   0.0s\n",
            "[CV] C=1, gamma=0.01 .................................................\n",
            "[CV] .................................. C=1, gamma=0.01, total=   0.0s\n",
            "[CV] C=1, gamma=0.01 .................................................\n",
            "[CV] .................................. C=1, gamma=0.01, total=   0.0s\n",
            "[CV] C=1, gamma=0.01 .................................................\n",
            "[CV] .................................. C=1, gamma=0.01, total=   0.0s\n",
            "[CV] C=1, gamma=0.01 .................................................\n",
            "[CV] .................................. C=1, gamma=0.01, total=   0.0s\n",
            "[CV] C=1, gamma=0.01 .................................................\n",
            "[CV] .................................. C=1, gamma=0.01, total=   0.0s\n",
            "[CV] C=1, gamma=0.001 ................................................\n",
            "[CV] ................................. C=1, gamma=0.001, total=   0.0s\n",
            "[CV] C=1, gamma=0.001 ................................................\n",
            "[CV] ................................. C=1, gamma=0.001, total=   0.0s\n",
            "[CV] C=1, gamma=0.001 ................................................\n",
            "[CV] ................................. C=1, gamma=0.001, total=   0.0s\n",
            "[CV] C=1, gamma=0.001 ................................................\n",
            "[CV] ................................. C=1, gamma=0.001, total=   0.0s\n",
            "[CV] C=1, gamma=0.001 ................................................\n",
            "[CV] ................................. C=1, gamma=0.001, total=   0.0s\n",
            "[CV] C=10, gamma=1 ...................................................\n",
            "[CV] .................................... C=10, gamma=1, total=   0.0s\n",
            "[CV] C=10, gamma=1 ...................................................\n",
            "[CV] .................................... C=10, gamma=1, total=   0.0s\n",
            "[CV] C=10, gamma=1 ...................................................\n",
            "[CV] .................................... C=10, gamma=1, total=   0.0s\n",
            "[CV] C=10, gamma=1 ...................................................\n",
            "[CV] .................................... C=10, gamma=1, total=   0.0s\n",
            "[CV] C=10, gamma=1 ...................................................\n",
            "[CV] .................................... C=10, gamma=1, total=   0.0s\n",
            "[CV] C=10, gamma=0.1 .................................................\n",
            "[CV] .................................. C=10, gamma=0.1, total=   0.0s\n",
            "[CV] C=10, gamma=0.1 .................................................\n",
            "[CV] .................................. C=10, gamma=0.1, total=   0.0s\n",
            "[CV] C=10, gamma=0.1 .................................................\n",
            "[CV] .................................. C=10, gamma=0.1, total=   0.0s\n",
            "[CV] C=10, gamma=0.1 .................................................\n",
            "[CV] .................................. C=10, gamma=0.1, total=   0.0s\n",
            "[CV] C=10, gamma=0.1 .................................................\n",
            "[CV] .................................. C=10, gamma=0.1, total=   0.0s\n",
            "[CV] C=10, gamma=0.01 ................................................\n",
            "[CV] ................................. C=10, gamma=0.01, total=   0.0s\n",
            "[CV] C=10, gamma=0.01 ................................................\n",
            "[CV] ................................. C=10, gamma=0.01, total=   0.0s\n",
            "[CV] C=10, gamma=0.01 ................................................\n",
            "[CV] ................................. C=10, gamma=0.01, total=   0.0s\n",
            "[CV] C=10, gamma=0.01 ................................................\n",
            "[CV] ................................. C=10, gamma=0.01, total=   0.0s\n",
            "[CV] C=10, gamma=0.01 ................................................\n",
            "[CV] ................................. C=10, gamma=0.01, total=   0.0s\n",
            "[CV] C=10, gamma=0.001 ...............................................\n",
            "[CV] ................................ C=10, gamma=0.001, total=   0.0s\n",
            "[CV] C=10, gamma=0.001 ...............................................\n",
            "[CV] ................................ C=10, gamma=0.001, total=   0.0s\n",
            "[CV] C=10, gamma=0.001 ...............................................\n",
            "[CV] ................................ C=10, gamma=0.001, total=   0.0s\n",
            "[CV] C=10, gamma=0.001 ...............................................\n",
            "[CV] ................................ C=10, gamma=0.001, total=   0.0s\n",
            "[CV] C=10, gamma=0.001 ...............................................\n",
            "[CV] ................................ C=10, gamma=0.001, total=   0.0s\n",
            "[CV] C=100, gamma=1 ..................................................\n",
            "[CV] ................................... C=100, gamma=1, total=   0.0s\n",
            "[CV] C=100, gamma=1 ..................................................\n",
            "[CV] ................................... C=100, gamma=1, total=   0.0s\n",
            "[CV] C=100, gamma=1 ..................................................\n",
            "[CV] ................................... C=100, gamma=1, total=   0.0s\n",
            "[CV] C=100, gamma=1 ..................................................\n",
            "[CV] ................................... C=100, gamma=1, total=   0.0s\n",
            "[CV] C=100, gamma=1 ..................................................\n",
            "[CV] ................................... C=100, gamma=1, total=   0.0s\n",
            "[CV] C=100, gamma=0.1 ................................................\n",
            "[CV] ................................. C=100, gamma=0.1, total=   0.0s\n",
            "[CV] C=100, gamma=0.1 ................................................\n",
            "[CV] ................................. C=100, gamma=0.1, total=   0.0s\n",
            "[CV] C=100, gamma=0.1 ................................................\n",
            "[CV] ................................. C=100, gamma=0.1, total=   0.0s\n",
            "[CV] C=100, gamma=0.1 ................................................\n",
            "[CV] ................................. C=100, gamma=0.1, total=   0.0s\n",
            "[CV] C=100, gamma=0.1 ................................................\n",
            "[CV] ................................. C=100, gamma=0.1, total=   0.0s\n",
            "[CV] C=100, gamma=0.01 ...............................................\n",
            "[CV] ................................ C=100, gamma=0.01, total=   0.0s\n",
            "[CV] C=100, gamma=0.01 ...............................................\n",
            "[CV] ................................ C=100, gamma=0.01, total=   0.0s\n",
            "[CV] C=100, gamma=0.01 ...............................................\n",
            "[CV] ................................ C=100, gamma=0.01, total=   0.0s\n",
            "[CV] C=100, gamma=0.01 ...............................................\n",
            "[CV] ................................ C=100, gamma=0.01, total=   0.0s\n",
            "[CV] C=100, gamma=0.01 ...............................................\n",
            "[CV] ................................ C=100, gamma=0.01, total=   0.0s\n",
            "[CV] C=100, gamma=0.001 ..............................................\n",
            "[CV] ............................... C=100, gamma=0.001, total=   0.0s\n",
            "[CV] C=100, gamma=0.001 ..............................................\n",
            "[CV] ............................... C=100, gamma=0.001, total=   0.0s\n",
            "[CV] C=100, gamma=0.001 ..............................................\n",
            "[CV] ............................... C=100, gamma=0.001, total=   0.0s\n",
            "[CV] C=100, gamma=0.001 ..............................................\n",
            "[CV] ............................... C=100, gamma=0.001, total=   0.0s\n",
            "[CV] C=100, gamma=0.001 ..............................................\n",
            "[CV] ............................... C=100, gamma=0.001, total=   0.0s\n"
          ],
          "name": "stdout"
        },
        {
          "output_type": "stream",
          "text": [
            "[Parallel(n_jobs=1)]: Done  80 out of  80 | elapsed:    2.2s finished\n"
          ],
          "name": "stderr"
        },
        {
          "output_type": "execute_result",
          "data": {
            "text/plain": [
              "GridSearchCV(cv=None, error_score=nan,\n",
              "             estimator=SVC(C=1.0, break_ties=False, cache_size=200,\n",
              "                           class_weight=None, coef0=0.0,\n",
              "                           decision_function_shape='ovr', degree=3,\n",
              "                           gamma='scale', kernel='rbf', max_iter=-1,\n",
              "                           probability=False, random_state=None, shrinking=True,\n",
              "                           tol=0.001, verbose=False),\n",
              "             iid='deprecated', n_jobs=None,\n",
              "             param_grid={'C': [0.1, 1, 10, 100],\n",
              "                         'gamma': [1, 0.1, 0.01, 0.001]},\n",
              "             pre_dispatch='2*n_jobs', refit=True, return_train_score=False,\n",
              "             scoring=None, verbose=2)"
            ]
          },
          "metadata": {
            "tags": []
          },
          "execution_count": 25
        }
      ]
    },
    {
      "cell_type": "code",
      "metadata": {
        "id": "4nYn460aRdQG",
        "colab_type": "code",
        "colab": {}
      },
      "source": [
        "grid_predictions = grid.predict(X_test)\n"
      ],
      "execution_count": null,
      "outputs": []
    },
    {
      "cell_type": "code",
      "metadata": {
        "id": "bCk0Vjb3SOym",
        "colab_type": "code",
        "colab": {
          "base_uri": "https://localhost:8080/",
          "height": 51
        },
        "outputId": "c1c5cea8-f969-43b7-cf39-ee4a5fc12e86"
      },
      "source": [
        "print('Accuracy score :')\n",
        "print(metrics.accuracy_score(y_test,grid_predictions))"
      ],
      "execution_count": null,
      "outputs": [
        {
          "output_type": "stream",
          "text": [
            "Accuracy score :\n",
            "0.9756427604871448\n"
          ],
          "name": "stdout"
        }
      ]
    },
    {
      "cell_type": "code",
      "metadata": {
        "id": "FZ3ZjMXlS9NV",
        "colab_type": "code",
        "colab": {}
      },
      "source": [
        ""
      ],
      "execution_count": null,
      "outputs": []
    }
  ]
}